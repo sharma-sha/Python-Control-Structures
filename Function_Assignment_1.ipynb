{
 "cells": [
  {
   "cell_type": "code",
   "execution_count": 3,
   "id": "b9b5c142",
   "metadata": {},
   "outputs": [],
   "source": [
    "def subfields():\n",
    "    print(\"Sub-fields in AI are:\")\n",
    "    Lists=['Machine Learing','Neural Network','Vision','Robotics','speech Processing','Natural Language Processing']\n",
    "    for temp in Lists:\n",
    "        print(temp)"
   ]
  },
  {
   "cell_type": "code",
   "execution_count": 4,
   "id": "590b201d",
   "metadata": {},
   "outputs": [
    {
     "name": "stdout",
     "output_type": "stream",
     "text": [
      "Sub-fields in AI are:\n",
      "Machine Learing\n",
      "Neural Network\n",
      "Vision\n",
      "Robotics\n",
      "speech Processing\n",
      "Natural Language Processing\n"
     ]
    }
   ],
   "source": [
    "subfields()"
   ]
  },
  {
   "cell_type": "code",
   "execution_count": 14,
   "id": "cea1a2e0",
   "metadata": {},
   "outputs": [],
   "source": [
    "def oddEven():\n",
    "    num=int(input(\"Enter a Number:\"))\n",
    "    if(num%2)==0:\n",
    "        print(\"{0} is Even Number\".format(num))\n",
    "    else:\n",
    "        print(\"{0} is Odd Number\".format(num))\n",
    "    "
   ]
  },
  {
   "cell_type": "code",
   "execution_count": 15,
   "id": "fb1daee3",
   "metadata": {},
   "outputs": [
    {
     "name": "stdout",
     "output_type": "stream",
     "text": [
      "Enter a Number:52452\n",
      "52452 is Even Number\n"
     ]
    }
   ],
   "source": [
    "oddEven()"
   ]
  },
  {
   "cell_type": "code",
   "execution_count": 5,
   "id": "d179b13a",
   "metadata": {},
   "outputs": [],
   "source": [
    "def ELIGIBLE():\n",
    "    gender=input(\"Your Gender:\")\n",
    "    age=int(input(\"Your Age:\"))\n",
    "    if(gender=='Male'):\n",
    "        if(age >=21):\n",
    "            print('ELIGIBLE')\n",
    "        else:\n",
    "            print('NOT ELIGIBLE')\n",
    "    elif(gender=='Female'):\n",
    "        if(age >18):\n",
    "            print('ELIGIBLE')\n",
    "        else:\n",
    "            print('NOT ELIGIBLE')\n",
    "    else:\n",
    "        print('INVALID INPUT DATA')"
   ]
  },
  {
   "cell_type": "code",
   "execution_count": 6,
   "id": "b64f9c75",
   "metadata": {},
   "outputs": [
    {
     "name": "stdout",
     "output_type": "stream",
     "text": [
      "Your Gender:Male\n",
      "Your Age:20\n",
      "NOT ELIGIBLE\n"
     ]
    }
   ],
   "source": [
    "ELIGIBLE()"
   ]
  },
  {
   "cell_type": "code",
   "execution_count": 12,
   "id": "7ce1207b",
   "metadata": {},
   "outputs": [],
   "source": [
    "def percentage():\n",
    "        m1=int(input(\"subjecte1=\"))\n",
    "        m2=int(input(\"subjecte2=\"))\n",
    "        m3=int(input(\"subjecte3=\"))\n",
    "        m4=int(input(\"subjecte4=\"))\n",
    "        m5=int(input(\"subjecte5=\"))\n",
    "        Total=m1+m2+m3+m4+m5\n",
    "        print(\"Total:\",m1+m2+m3+m4+m5)\n",
    "        Percent=(Total/500)*100\n",
    "        print(\"Percentage:\",Percent)"
   ]
  },
  {
   "cell_type": "code",
   "execution_count": 13,
   "id": "f0409334",
   "metadata": {},
   "outputs": [
    {
     "name": "stdout",
     "output_type": "stream",
     "text": [
      "subjecte1=98\n",
      "subjecte2=87\n",
      "subjecte3=95\n",
      "subjecte4=95\n",
      "subjecte5=93\n",
      "Total: 468\n",
      "Percentage: 93.60000000000001\n"
     ]
    }
   ],
   "source": [
    "percentage()"
   ]
  },
  {
   "cell_type": "code",
   "execution_count": 1,
   "id": "773b5de5",
   "metadata": {},
   "outputs": [],
   "source": [
    "def triangle():\n",
    "    Height=int(input(\"Height:\"))\n",
    "    breadth=int(input(\"Breadth:\"))\n",
    "    print(\"Area formula: (Height*Breadth)/2\")\n",
    "    print(\"Area of Triangle: \",(Height*breadth)/2)\n",
    "    Height1=int(input(\"Height1:\"))\n",
    "    Height2=int(input(\"Height2:\"))\n",
    "    breadth=int(input(\"Breadth:\"))\n",
    "    print(\"Perimeter formula: Height1+Height2+Breadth\")\n",
    "    print(\"Perimeter of Triangle: \",Height1+Height2+breadth)"
   ]
  },
  {
   "cell_type": "code",
   "execution_count": 2,
   "id": "d99c7bf6",
   "metadata": {},
   "outputs": [
    {
     "name": "stdout",
     "output_type": "stream",
     "text": [
      "Height:32\n",
      "Breadth:34\n",
      "Area formula: (Height*Breadth)/2\n",
      "Area of Triangle:  544.0\n",
      "Height1:2\n",
      "Height2:4\n",
      "Breadth:4\n",
      "Perimeter formula: Height1+Height2+Breadth\n",
      "Perimeter of Triangle:  10\n"
     ]
    }
   ],
   "source": [
    "triangle()"
   ]
  },
  {
   "cell_type": "code",
   "execution_count": null,
   "id": "4d90d4c2",
   "metadata": {},
   "outputs": [],
   "source": []
  }
 ],
 "metadata": {
  "kernelspec": {
   "display_name": "Python 3 (ipykernel)",
   "language": "python",
   "name": "python3"
  },
  "language_info": {
   "codemirror_mode": {
    "name": "ipython",
    "version": 3
   },
   "file_extension": ".py",
   "mimetype": "text/x-python",
   "name": "python",
   "nbconvert_exporter": "python",
   "pygments_lexer": "ipython3",
   "version": "3.11.5"
  }
 },
 "nbformat": 4,
 "nbformat_minor": 5
}
